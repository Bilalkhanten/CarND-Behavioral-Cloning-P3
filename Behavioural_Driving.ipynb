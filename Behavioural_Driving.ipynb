{
 "cells": [
  {
   "cell_type": "markdown",
   "metadata": {},
   "source": [
    "# Behaviour Driving"
   ]
  },
  {
   "cell_type": "markdown",
   "metadata": {},
   "source": [
    "The goal of this project is to teach a virtual vehicle to drive using only the driving data that we have collected in a simulator. This idea is most recently based on a paper by NVIDIA called [End To End Driving For Self-Driving Cars](https://arxiv.org/abs/1604.07316)."
   ]
  },
  {
   "cell_type": "markdown",
   "metadata": {},
   "source": [
    "Useful Resources:\n",
    "* [Steering Ratio](https://en.wikipedia.org/wiki/Steering_ratio)"
   ]
  },
  {
   "cell_type": "markdown",
   "metadata": {},
   "source": [
    "## Loading The Dataset"
   ]
  },
  {
   "cell_type": "code",
   "execution_count": 287,
   "metadata": {
    "collapsed": true
   },
   "outputs": [],
   "source": [
    "# Visualizations will be shown in the notebook.\n",
    "%matplotlib inline\n",
    "import tensorflow as tf\n",
    "import pandas as pd\n",
    "import numpy as np\n",
    "from matplotlib import pyplot as plt\n",
    "from PIL import Image\n",
    "import cv2"
   ]
  },
  {
   "cell_type": "code",
   "execution_count": 288,
   "metadata": {
    "collapsed": true
   },
   "outputs": [],
   "source": [
    "path = '../datasets/behavioural_driving/Dataset_2'\n",
    "img_path = path + '/IMG'\n",
    "models_path = \"./models\""
   ]
  },
  {
   "cell_type": "code",
   "execution_count": 289,
   "metadata": {},
   "outputs": [
    {
     "data": {
      "text/html": [
       "<div>\n",
       "<style>\n",
       "    .dataframe thead tr:only-child th {\n",
       "        text-align: right;\n",
       "    }\n",
       "\n",
       "    .dataframe thead th {\n",
       "        text-align: left;\n",
       "    }\n",
       "\n",
       "    .dataframe tbody tr th {\n",
       "        vertical-align: top;\n",
       "    }\n",
       "</style>\n",
       "<table border=\"1\" class=\"dataframe\">\n",
       "  <thead>\n",
       "    <tr style=\"text-align: right;\">\n",
       "      <th></th>\n",
       "      <th>Center</th>\n",
       "      <th>Left</th>\n",
       "      <th>Right</th>\n",
       "      <th>Steering Angle</th>\n",
       "      <th>Throttle</th>\n",
       "      <th>Brake</th>\n",
       "      <th>Speed</th>\n",
       "    </tr>\n",
       "  </thead>\n",
       "  <tbody>\n",
       "    <tr>\n",
       "      <th>0</th>\n",
       "      <td>/Users/eddieforson/Desktop/Behavioural_Driving...</td>\n",
       "      <td>/Users/eddieforson/Desktop/Behavioural_Driving...</td>\n",
       "      <td>/Users/eddieforson/Desktop/Behavioural_Driving...</td>\n",
       "      <td>-0.044182</td>\n",
       "      <td>0.987830</td>\n",
       "      <td>0</td>\n",
       "      <td>8.765856</td>\n",
       "    </tr>\n",
       "    <tr>\n",
       "      <th>1</th>\n",
       "      <td>/Users/eddieforson/Desktop/Behavioural_Driving...</td>\n",
       "      <td>/Users/eddieforson/Desktop/Behavioural_Driving...</td>\n",
       "      <td>/Users/eddieforson/Desktop/Behavioural_Driving...</td>\n",
       "      <td>-0.098663</td>\n",
       "      <td>0.979730</td>\n",
       "      <td>0</td>\n",
       "      <td>10.083110</td>\n",
       "    </tr>\n",
       "    <tr>\n",
       "      <th>2</th>\n",
       "      <td>/Users/eddieforson/Desktop/Behavioural_Driving...</td>\n",
       "      <td>/Users/eddieforson/Desktop/Behavioural_Driving...</td>\n",
       "      <td>/Users/eddieforson/Desktop/Behavioural_Driving...</td>\n",
       "      <td>-0.186713</td>\n",
       "      <td>0.975661</td>\n",
       "      <td>0</td>\n",
       "      <td>10.936000</td>\n",
       "    </tr>\n",
       "    <tr>\n",
       "      <th>3</th>\n",
       "      <td>/Users/eddieforson/Desktop/Behavioural_Driving...</td>\n",
       "      <td>/Users/eddieforson/Desktop/Behavioural_Driving...</td>\n",
       "      <td>/Users/eddieforson/Desktop/Behavioural_Driving...</td>\n",
       "      <td>-0.186713</td>\n",
       "      <td>0.975661</td>\n",
       "      <td>0</td>\n",
       "      <td>12.136570</td>\n",
       "    </tr>\n",
       "    <tr>\n",
       "      <th>4</th>\n",
       "      <td>/Users/eddieforson/Desktop/Behavioural_Driving...</td>\n",
       "      <td>/Users/eddieforson/Desktop/Behavioural_Driving...</td>\n",
       "      <td>/Users/eddieforson/Desktop/Behavioural_Driving...</td>\n",
       "      <td>-0.186713</td>\n",
       "      <td>0.975661</td>\n",
       "      <td>0</td>\n",
       "      <td>12.764350</td>\n",
       "    </tr>\n",
       "    <tr>\n",
       "      <th>5</th>\n",
       "      <td>/Users/eddieforson/Desktop/Behavioural_Driving...</td>\n",
       "      <td>/Users/eddieforson/Desktop/Behavioural_Driving...</td>\n",
       "      <td>/Users/eddieforson/Desktop/Behavioural_Driving...</td>\n",
       "      <td>-0.186713</td>\n",
       "      <td>0.975661</td>\n",
       "      <td>0</td>\n",
       "      <td>13.870710</td>\n",
       "    </tr>\n",
       "    <tr>\n",
       "      <th>6</th>\n",
       "      <td>/Users/eddieforson/Desktop/Behavioural_Driving...</td>\n",
       "      <td>/Users/eddieforson/Desktop/Behavioural_Driving...</td>\n",
       "      <td>/Users/eddieforson/Desktop/Behavioural_Driving...</td>\n",
       "      <td>-0.186713</td>\n",
       "      <td>0.975661</td>\n",
       "      <td>0</td>\n",
       "      <td>14.973310</td>\n",
       "    </tr>\n",
       "    <tr>\n",
       "      <th>7</th>\n",
       "      <td>/Users/eddieforson/Desktop/Behavioural_Driving...</td>\n",
       "      <td>/Users/eddieforson/Desktop/Behavioural_Driving...</td>\n",
       "      <td>/Users/eddieforson/Desktop/Behavioural_Driving...</td>\n",
       "      <td>-0.174129</td>\n",
       "      <td>0.975661</td>\n",
       "      <td>0</td>\n",
       "      <td>16.186890</td>\n",
       "    </tr>\n",
       "    <tr>\n",
       "      <th>8</th>\n",
       "      <td>/Users/eddieforson/Desktop/Behavioural_Driving...</td>\n",
       "      <td>/Users/eddieforson/Desktop/Behavioural_Driving...</td>\n",
       "      <td>/Users/eddieforson/Desktop/Behavioural_Driving...</td>\n",
       "      <td>-0.174129</td>\n",
       "      <td>0.975661</td>\n",
       "      <td>0</td>\n",
       "      <td>17.160210</td>\n",
       "    </tr>\n",
       "    <tr>\n",
       "      <th>9</th>\n",
       "      <td>/Users/eddieforson/Desktop/Behavioural_Driving...</td>\n",
       "      <td>/Users/eddieforson/Desktop/Behavioural_Driving...</td>\n",
       "      <td>/Users/eddieforson/Desktop/Behavioural_Driving...</td>\n",
       "      <td>-0.174129</td>\n",
       "      <td>0.975661</td>\n",
       "      <td>0</td>\n",
       "      <td>18.380120</td>\n",
       "    </tr>\n",
       "  </tbody>\n",
       "</table>\n",
       "</div>"
      ],
      "text/plain": [
       "                                              Center  \\\n",
       "0  /Users/eddieforson/Desktop/Behavioural_Driving...   \n",
       "1  /Users/eddieforson/Desktop/Behavioural_Driving...   \n",
       "2  /Users/eddieforson/Desktop/Behavioural_Driving...   \n",
       "3  /Users/eddieforson/Desktop/Behavioural_Driving...   \n",
       "4  /Users/eddieforson/Desktop/Behavioural_Driving...   \n",
       "5  /Users/eddieforson/Desktop/Behavioural_Driving...   \n",
       "6  /Users/eddieforson/Desktop/Behavioural_Driving...   \n",
       "7  /Users/eddieforson/Desktop/Behavioural_Driving...   \n",
       "8  /Users/eddieforson/Desktop/Behavioural_Driving...   \n",
       "9  /Users/eddieforson/Desktop/Behavioural_Driving...   \n",
       "\n",
       "                                                Left  \\\n",
       "0  /Users/eddieforson/Desktop/Behavioural_Driving...   \n",
       "1  /Users/eddieforson/Desktop/Behavioural_Driving...   \n",
       "2  /Users/eddieforson/Desktop/Behavioural_Driving...   \n",
       "3  /Users/eddieforson/Desktop/Behavioural_Driving...   \n",
       "4  /Users/eddieforson/Desktop/Behavioural_Driving...   \n",
       "5  /Users/eddieforson/Desktop/Behavioural_Driving...   \n",
       "6  /Users/eddieforson/Desktop/Behavioural_Driving...   \n",
       "7  /Users/eddieforson/Desktop/Behavioural_Driving...   \n",
       "8  /Users/eddieforson/Desktop/Behavioural_Driving...   \n",
       "9  /Users/eddieforson/Desktop/Behavioural_Driving...   \n",
       "\n",
       "                                               Right  Steering Angle  \\\n",
       "0  /Users/eddieforson/Desktop/Behavioural_Driving...       -0.044182   \n",
       "1  /Users/eddieforson/Desktop/Behavioural_Driving...       -0.098663   \n",
       "2  /Users/eddieforson/Desktop/Behavioural_Driving...       -0.186713   \n",
       "3  /Users/eddieforson/Desktop/Behavioural_Driving...       -0.186713   \n",
       "4  /Users/eddieforson/Desktop/Behavioural_Driving...       -0.186713   \n",
       "5  /Users/eddieforson/Desktop/Behavioural_Driving...       -0.186713   \n",
       "6  /Users/eddieforson/Desktop/Behavioural_Driving...       -0.186713   \n",
       "7  /Users/eddieforson/Desktop/Behavioural_Driving...       -0.174129   \n",
       "8  /Users/eddieforson/Desktop/Behavioural_Driving...       -0.174129   \n",
       "9  /Users/eddieforson/Desktop/Behavioural_Driving...       -0.174129   \n",
       "\n",
       "   Throttle  Brake      Speed  \n",
       "0  0.987830      0   8.765856  \n",
       "1  0.979730      0  10.083110  \n",
       "2  0.975661      0  10.936000  \n",
       "3  0.975661      0  12.136570  \n",
       "4  0.975661      0  12.764350  \n",
       "5  0.975661      0  13.870710  \n",
       "6  0.975661      0  14.973310  \n",
       "7  0.975661      0  16.186890  \n",
       "8  0.975661      0  17.160210  \n",
       "9  0.975661      0  18.380120  "
      ]
     },
     "execution_count": 289,
     "metadata": {},
     "output_type": "execute_result"
    }
   ],
   "source": [
    "data_csv = pd.read_csv(path + '/driving_log.csv', header=None, \n",
    "                       names = [\"Center\", \"Left\", \"Right\", \"Steering Angle\", \"Throttle\", \"Brake\",\"Speed\"])\n",
    "data_csv.head(n=10)"
   ]
  },
  {
   "cell_type": "code",
   "execution_count": 290,
   "metadata": {},
   "outputs": [
    {
     "name": "stdout",
     "output_type": "stream",
     "text": [
      "Dataset counts 2940 rows\n"
     ]
    }
   ],
   "source": [
    "img_count = data_csv.shape[0]\n",
    "print(\"Dataset counts {0} rows\".format(img_count))"
   ]
  },
  {
   "cell_type": "markdown",
   "metadata": {},
   "source": [
    "## Investigation distribution of stearing angles"
   ]
  },
  {
   "cell_type": "code",
   "execution_count": 307,
   "metadata": {
    "collapsed": true
   },
   "outputs": [],
   "source": [
    "st_angles = np.asarray(data_csv[\"Steering Angle\"], dtype=np.float32)"
   ]
  },
  {
   "cell_type": "code",
   "execution_count": 340,
   "metadata": {},
   "outputs": [
    {
     "data": {
      "text/plain": [
       "(array([  3.00000000e+00,   3.00000000e+00,   5.00000000e+00,\n",
       "          1.90000000e+01,   1.30000000e+01,   5.10000000e+01,\n",
       "          2.34000000e+02,   1.74000000e+02,   5.97000000e+02,\n",
       "          1.66100000e+03,   5.10000000e+01,   2.70000000e+01,\n",
       "          1.40000000e+01,   5.20000000e+01,   1.60000000e+01,\n",
       "          9.00000000e+00,   1.00000000e+00,   9.00000000e+00,\n",
       "          0.00000000e+00,   1.00000000e+00]),\n",
       " array([-0.61848682, -0.55370313, -0.48891944, -0.42413574, -0.35935205,\n",
       "        -0.29456836, -0.22978467, -0.16500098, -0.10021728, -0.03543359,\n",
       "         0.0293501 ,  0.09413379,  0.15891749,  0.22370118,  0.28848487,\n",
       "         0.35326856,  0.41805226,  0.48283595,  0.54761964,  0.61240333,\n",
       "         0.67718703]),\n",
       " <a list of 20 Patch objects>)"
      ]
     },
     "execution_count": 340,
     "metadata": {},
     "output_type": "execute_result"
    },
    {
     "data": {
      "image/png": "[encoded data removed]",
      "text/plain": [
       "<matplotlib.figure.Figure at 0x7f689a914f60>"
      ]
     },
     "metadata": {},
     "output_type": "display_data"
    }
   ],
   "source": [
    "fig, ax = plt.subplots(1, 1, figsize=(10, 5))\n",
    "ax.grid(True)\n",
    "ax.hist(st_angles, bins=20, histtype='bar')"
   ]
  },
  {
   "cell_type": "markdown",
   "metadata": {},
   "source": [
    "The dataset is greatly unbalanced, which means that **our model is biased towards turning left**. We must therefore find a way to equilibrate it."
   ]
  },
  {
   "cell_type": "code",
   "execution_count": null,
   "metadata": {
    "collapsed": true
   },
   "outputs": [],
   "source": []
  },
  {
   "cell_type": "code",
   "execution_count": null,
   "metadata": {
    "collapsed": true
   },
   "outputs": [],
   "source": []
  },
  {
   "cell_type": "code",
   "execution_count": null,
   "metadata": {
    "collapsed": true
   },
   "outputs": [],
   "source": []
  },
  {
   "cell_type": "code",
   "execution_count": null,
   "metadata": {
    "collapsed": true
   },
   "outputs": [],
   "source": []
  },
  {
   "cell_type": "markdown",
   "metadata": {},
   "source": [
    "## Load Images"
   ]
  },
  {
   "cell_type": "code",
   "execution_count": 342,
   "metadata": {
    "collapsed": true
   },
   "outputs": [],
   "source": [
    "def read_img(img_name, path):\n",
    "    img_path = \"{0}/{1}\".format(path, img_name)\n",
    "    img = cv2.imread(img_path)\n",
    "    # Converting image to RGB\n",
    "    return cv2.cvtColor(img, cv2.COLOR_BGR2RGB)"
   ]
  },
  {
   "cell_type": "markdown",
   "metadata": {},
   "source": [
    "### Load Center Images And Flip Them"
   ]
  },
  {
   "cell_type": "code",
   "execution_count": 343,
   "metadata": {
    "collapsed": true
   },
   "outputs": [],
   "source": [
    "from imgaug import augmenters as iaa"
   ]
  },
  {
   "cell_type": "code",
   "execution_count": 447,
   "metadata": {
    "collapsed": true
   },
   "outputs": [],
   "source": [
    "# Crop the image in the hight dimension\n",
    "crop_y_start = 60\n",
    "new_y_max = 160 - crop_y_start "
   ]
  },
  {
   "cell_type": "code",
   "execution_count": 448,
   "metadata": {
    "collapsed": true
   },
   "outputs": [],
   "source": [
    "X_train_center = np.zeros((img_count, new_y_max, 320, 3), dtype=np.uint8)\n",
    "X_train_left = np.zeros((img_count, new_y_max, 320, 3), dtype=np.uint8)\n",
    "X_train_right = np.zeros((img_count, new_y_max, 320, 3), dtype=np.uint8)\n",
    "\n",
    "y_train_center = np.zeros((img_count), dtype=np.float32)\n",
    "y_train_left = np.zeros((img_count), dtype=np.float32)\n",
    "y_train_right = np.zeros((img_count), dtype=np.float32)\n",
    "\n",
    "X_train_dict = {\"Center\": X_train_center, \"Left\": X_train_left, \"Right\": X_train_right}\n",
    "y_train_dict = {\"Center\": y_train_center, \"Left\": y_train_left, \"Right\": y_train_right}"
   ]
  },
  {
   "cell_type": "code",
   "execution_count": 449,
   "metadata": {},
   "outputs": [],
   "source": [
    "# Let's import all our images and steering angles\n",
    "#X_train = np.zeros((img_count * 3, 160, 320, 3), dtype=np.uint8)\n",
    "#y_train = np.zeros((img_count * 3), dtype=np.float32)\n",
    "\n",
    "for index, row in data_csv.iterrows():\n",
    "    #start_indx = index * 3\n",
    "    \n",
    "    for (i,pos) in enumerate([(\"Center\", 0), (\"Left\", 0.30), (\"Right\", -0.25)]):\n",
    "        pos_lb = pos[0]\n",
    "        pos_angle_correction = pos[1]\n",
    "        img = read_img(row[pos_lb].split(\"/\")[-1], img_path)\n",
    "\n",
    "        X_train_dict[pos_lb][index] = img[crop_y_start:,:,:]        \n",
    "        y_train_dict[pos_lb][index] = row[\"Steering Angle\"] + pos_angle_correction\n",
    "    #center_img_path = \"{0}/{1}\".format(img_path,row[\"Center\"].split(\"/\")[-1])\n",
    "    #print(center_img_path)\n",
    "    # OpenCV returns Height x Width x RGB\n",
    "    #img = cv2.imread(center_img_path)\n",
    "    #X_train[index] = img\n",
    "    #y_train[index] = row[\"Steering Angle\"]"
   ]
  },
  {
   "cell_type": "code",
   "execution_count": 345,
   "metadata": {},
   "outputs": [
    {
     "name": "stdout",
     "output_type": "stream",
     "text": [
      "Shape of training set images: (8820, 160, 320, 3)\n",
      "Shape of training set labels: (8820,)\n"
     ]
    }
   ],
   "source": [
    "print(\"Shape of training set images: {0}\\nShape of training set labels: {1}\".format(X_train.shape, y_train.shape))"
   ]
  },
  {
   "cell_type": "code",
   "execution_count": 453,
   "metadata": {},
   "outputs": [
    {
     "data": {
      "image/png": "[encoded data removed]",
      "text/plain": [
       "<matplotlib.figure.Figure at 0x7f6889996748>"
      ]
     },
     "metadata": {},
     "output_type": "display_data"
    }
   ],
   "source": [
    "# Let's visualise an image\n",
    "plt.imshow(X_train_right[976], cmap=None)\n",
    "plt.show()"
   ]
  },
  {
   "cell_type": "code",
   "execution_count": 347,
   "metadata": {},
   "outputs": [
    {
     "data": {
      "text/plain": [
       "(array([  3.00000000e+00,   7.00000000e+00,   1.90000000e+01,\n",
       "          2.40000000e+01,   8.10000000e+01,   3.22000000e+02,\n",
       "          5.64000000e+02,   2.17500000e+03,   7.40000000e+02,\n",
       "          2.10200000e+03,   7.58000000e+02,   1.73700000e+03,\n",
       "          1.22000000e+02,   4.60000000e+01,   7.00000000e+01,\n",
       "          2.30000000e+01,   1.50000000e+01,   6.00000000e+00,\n",
       "          5.00000000e+00,   1.00000000e+00]),\n",
       " array([-0.7684868 , -0.68870311, -0.60891942, -0.52913573, -0.44935204,\n",
       "        -0.36956835, -0.28978466, -0.21000097, -0.13021728, -0.05043359,\n",
       "         0.0293501 ,  0.10913379,  0.18891748,  0.26870117,  0.34848486,\n",
       "         0.42826855,  0.50805224,  0.58783593,  0.66761962,  0.74740331,\n",
       "         0.827187  ]),\n",
       " <a list of 20 Patch objects>)"
      ]
     },
     "execution_count": 347,
     "metadata": {},
     "output_type": "execute_result"
    },
    {
     "data": {
      "image/png": "[encoded data removed]",
      "text/plain": [
       "<matplotlib.figure.Figure at 0x7f6890431b38>"
      ]
     },
     "metadata": {},
     "output_type": "display_data"
    }
   ],
   "source": [
    "# Now let's see what our distribution of steering angles looks like\n",
    "fig, ax = plt.subplots(1, 1, figsize=(10, 5))\n",
    "ax.grid(True)\n",
    "ax.hist(y_train, bins=20, histtype='bar')"
   ]
  },
  {
   "cell_type": "markdown",
   "metadata": {},
   "source": [
    "## Build A Neural Net To Predict Steering Angles"
   ]
  },
  {
   "cell_type": "markdown",
   "metadata": {},
   "source": [
    "We are using Keras, which in turn delegates to Tensorflow under the hood. Let's import all the functions we need."
   ]
  },
  {
   "cell_type": "code",
   "execution_count": 348,
   "metadata": {
    "collapsed": true
   },
   "outputs": [],
   "source": [
    "# Initial Setup for Keras\n",
    "from keras.models import Sequential\n",
    "from keras.layers.core import Dense, Activation, Flatten, Dropout, Lambda\n",
    "from keras.layers.convolutional import Convolution2D\n",
    "from keras.layers.pooling import MaxPooling2D\n",
    "from keras.layers.normalization import BatchNormalization\n",
    "from keras.preprocessing.image import ImageDataGenerator\n",
    "from keras import backend as K"
   ]
  },
  {
   "cell_type": "code",
   "execution_count": 349,
   "metadata": {
    "collapsed": true
   },
   "outputs": [],
   "source": [
    "# Let's also define the input shape\n",
    "in_shape = (160, 320, 3)"
   ]
  },
  {
   "cell_type": "markdown",
   "metadata": {},
   "source": [
    "### Simple Model"
   ]
  },
  {
   "cell_type": "markdown",
   "metadata": {},
   "source": [
    "In this section we create a simple model to predict steering angles. There are no convolutions in this architecture, and since this is a pure _regression_ problem, and not a _classification_ one, we will be using the [Mean Squared Error](https://en.wikipedia.org/wiki/Mean_squared_error) as the activation function in the last layer."
   ]
  },
  {
   "cell_type": "code",
   "execution_count": 77,
   "metadata": {
    "collapsed": true
   },
   "outputs": [],
   "source": [
    "def simple_model():\n",
    "    model = Sequential()\n",
    "    model.add(Flatten(input_shape=in_shape))\n",
    "    model.add(Dense(1))\n",
    "    \n",
    "    model.compile(loss = \"MSE\", optimizer = \"adam\", metrics=['accuracy'])\n",
    "    return model"
   ]
  },
  {
   "cell_type": "code",
   "execution_count": 78,
   "metadata": {
    "collapsed": true
   },
   "outputs": [],
   "source": [
    "m = simple_model()\n",
    "history = m.fit(X_train, y_train, nb_epoch=50, validation_split=0.2, shuffle=True, verbose=0)"
   ]
  },
  {
   "cell_type": "code",
   "execution_count": 66,
   "metadata": {},
   "outputs": [
    {
     "name": "stdout",
     "output_type": "stream",
     "text": [
      "[0.0, 0.0, 0.0, 0.0, 0.0, 0.0, 0.0047846889952153108, 0.0, 0.0095693779904306216, 0.0, 0.0, 0.0, 0.0, 0.0, 0.0, 0.0, 0.0, 0.0, 0.0, 0.0, 0.0, 0.0, 0.0, 0.0047846889952153108, 0.0, 0.0, 0.0, 0.0095693779904306216, 0.0047846889952153108, 0.0, 0.0, 0.0, 0.0, 0.0047846889952153108, 0.0047846890130396665, 0.0, 0.0, 0.0, 0.0, 0.0, 0.0, 0.0, 0.0, 0.0, 0.0, 0.0047846889952153108, 0.0, 0.0, 0.0047846889952153108, 0.0047846889952153108]\n"
     ]
    }
   ],
   "source": [
    "# TODO PRINT ERROR IN FUTURE\n",
    "print(history.history['val_acc'])"
   ]
  },
  {
   "cell_type": "code",
   "execution_count": 80,
   "metadata": {},
   "outputs": [
    {
     "name": "stdout",
     "output_type": "stream",
     "text": [
      "[21084.091385033946, 5162.5021910256091, 3336.7294165273065, 2661.4997425993411, 4334.0585921899956, 2931.8831720809203, 5767.068208054613, 2386.4748964157347, 1954.6100489217251, 6369.1227473542331, 1805.2955509466103, 8256.0578979882193, 1812.3054382519219, 1762.1040698164188, 1523.5546582499251, 1794.5441364129892, 2347.7099671775159, 3184.5184922873405, 1948.454331273088, 3321013.7428115015, 877065.70287539938, 60372.871655351439, 31081.517846445688, 63287.48497404153, 171630.6153154952, 309191.62914337061, 47877.987694688498, 283461.61861022364, 782862.09025559109, 492698.82547923323, 98549.914386980832, 85857.378344648561, 232147.39996006389, 902190.76996805111, 349112.241413738, 21909.791009384982, 181900.63064097444, 908597.79313099047, 760121.61281948886, 58112.869259185303, 194298.03783945687, 104528.26599940096, 5005818.2779552713, 36722.155975439295, 235452.51652356231, 141641.31055311501, 6716.3210254218247, 42497.774286142172, 125930.56150159745, 33481.090742312299]\n"
     ]
    }
   ],
   "source": [
    "# TODO PRINT ERROR IN FUTURE\n",
    "print(history.history['val_loss'])"
   ]
  },
  {
   "cell_type": "code",
   "execution_count": 81,
   "metadata": {
    "collapsed": true
   },
   "outputs": [],
   "source": [
    "m.save(\"{0}/simple_model.h5\".format(models_path))"
   ]
  },
  {
   "cell_type": "code",
   "execution_count": 108,
   "metadata": {
    "collapsed": true
   },
   "outputs": [],
   "source": [
    "def plot_results(hist, metrics, xlb, ylb, title, leg, fsize = (10, 5)):\n",
    "    fig, ax = plt.subplots(1, 1, figsize=fsize)\n",
    "    for m in metrics:        \n",
    "        ax.plot(hist.history[m])\n",
    "    \n",
    "    ax.set(xlabel=xlb, ylabel=ylb, title=title)\n",
    "    ax.set_yscale('log')\n",
    "\n",
    "    ax.legend(leg, loc='upper left')\n",
    "    plt.show()"
   ]
  },
  {
   "cell_type": "code",
   "execution_count": 109,
   "metadata": {},
   "outputs": [
    {
     "data": {
      "image/png": "[encoded data removed]",
      "text/plain": [
       "<matplotlib.figure.Figure at 0x7f6aa4329278>"
      ]
     },
     "metadata": {},
     "output_type": "display_data"
    }
   ],
   "source": [
    "plot_results(history, [\"acc\", \"val_acc\"], \"epoch\", \"accuracy\", \"Accuracy vs Epochs\", [\"Training\", \"Validation\"])"
   ]
  },
  {
   "cell_type": "code",
   "execution_count": 110,
   "metadata": {},
   "outputs": [
    {
     "data": {
      "image/png": "[encoded data removed]",
      "text/plain": [
       "<matplotlib.figure.Figure at 0x7f6ad8368be0>"
      ]
     },
     "metadata": {},
     "output_type": "display_data"
    }
   ],
   "source": [
    "plot_results(history, [\"loss\", \"val_loss\"], \"epoch\", \"loss\", \"Loss vs Epochs\", [\"Training\", \"Validation\"])"
   ]
  },
  {
   "cell_type": "markdown",
   "metadata": {},
   "source": [
    "We are not getting a stable network at all. The loss is erratic as well as the accuracy, and we are barely reaching 0.1% on the training set. We will explore next the architecture employed by the team from the NVIDIA paper."
   ]
  },
  {
   "cell_type": "markdown",
   "metadata": {},
   "source": [
    "## NVIDIA Model"
   ]
  },
  {
   "cell_type": "markdown",
   "metadata": {},
   "source": [
    "### Pre-processing steps"
   ]
  },
  {
   "cell_type": "code",
   "execution_count": 381,
   "metadata": {
    "collapsed": true
   },
   "outputs": [],
   "source": [
    "mean_r = np.average(X_train[:,:,:,0])\n",
    "mean_g = np.average(X_train[:,:,:,1])\n",
    "mean_b = np.average(X_train[:,:,:,2])"
   ]
  },
  {
   "cell_type": "code",
   "execution_count": 382,
   "metadata": {},
   "outputs": [
    {
     "name": "stdout",
     "output_type": "stream",
     "text": [
      "Mean for channels is [136.19009391165321, 142.25525395939627, 133.84246425028346]\n"
     ]
    }
   ],
   "source": [
    "mean_channels = [mean_r, mean_g, mean_b]\n",
    "print(\"Mean for channels is {0}\".format(mean_channels))"
   ]
  },
  {
   "cell_type": "markdown",
   "metadata": {},
   "source": [
    "### Creating our generator"
   ]
  },
  {
   "cell_type": "markdown",
   "metadata": {},
   "source": [
    "Next we will create a Keras generator to return images in batches."
   ]
  },
  {
   "cell_type": "code",
   "execution_count": 500,
   "metadata": {
    "collapsed": true
   },
   "outputs": [],
   "source": [
    "def fliph_image(img):\n",
    "    \"\"\"\n",
    "    Returns a horizontally flipped image\n",
    "    \"\"\"\n",
    "    return cv2.flip(img, 1)"
   ]
  },
  {
   "cell_type": "code",
   "execution_count": null,
   "metadata": {
    "collapsed": true
   },
   "outputs": [],
   "source": [
    "def change_image_lightness(img):\n",
    "    # Convert to HSL\n",
    "    # Add an offset to light component \n",
    "    # Convert back to RGB\n",
    "    # Return image"
   ]
  },
  {
   "cell_type": "code",
   "execution_count": null,
   "metadata": {
    "collapsed": true
   },
   "outputs": [],
   "source": []
  },
  {
   "cell_type": "code",
   "execution_count": null,
   "metadata": {
    "collapsed": true
   },
   "outputs": [],
   "source": []
  },
  {
   "cell_type": "code",
   "execution_count": 504,
   "metadata": {
    "collapsed": true
   },
   "outputs": [],
   "source": [
    "def augment_image(img, st_angle, p=1.0):\n",
    "    \"\"\"\n",
    "    Augment a given image with a probability p\n",
    "    \"\"\"\n",
    "    aug_img = img\n",
    "    \n",
    "    # Try horizontal flip\n",
    "    aug_img = fliph_image(img)\n",
    "    st_angle = st_angle * (-1)\n",
    "    \n",
    "    # Try Changes in brightness\n",
    "    \n",
    "    # Try adding shadows\n",
    "    \n",
    "    return aug_img, st_angle"
   ]
  },
  {
   "cell_type": "code",
   "execution_count": 505,
   "metadata": {
    "collapsed": true
   },
   "outputs": [],
   "source": [
    "def generate_images(df, target_dimensions, batch_size=100, shuffle=True):\n",
    "    \"\"\"\n",
    "    Generates images whose paths and steering angle are stored in supplied dataframe object df\n",
    "    Returns the tuple (batch,steering_angles)\n",
    "    \"\"\"\n",
    "    # e.g. 160x320x3 for target_dimensions\n",
    "    batch = np.zeros((batch_size, target_dimensions[0],  target_dimensions[1],  target_dimensions[2]), dtype=np.float32)\n",
    "    steering_angles = np.zeros(batch_size)\n",
    "    df_len = len(df)\n",
    "    img_types = [\"Center\", \"Left\", \"Right\"]\n",
    "    st_angle_calibration = [0, 0.25, -0.25]\n",
    "    \n",
    "    while True:\n",
    "        idx = np.random.randint(0, df_len, size=batch_size)       \n",
    "        for b_i, i in enumerate(idx):\n",
    "            row = df.iloc[i]\n",
    "            st_angle = row[\"Steering Angle\"]\n",
    "            img_type_idx = np.random.randint(0, 3)\n",
    "            img_type = img_types[img_type_idx]\n",
    "            img_type_path = row[img_type]\n",
    "            # Calibrate the steering angle accordingly\n",
    "            st_angle += st_angle_calibration[img_type_idx]\n",
    "            \n",
    "            # Load image\n",
    "            img = read_img(img_type_path.split(\"/\")[-1], img_path)\n",
    "            \n",
    "            # Augment the image\n",
    "            img, st_angle = augment_image(img, st_angle, 1.0)\n",
    "\n",
    "            # Add our augmented image to our batch\n",
    "            batch[b_i] = img\n",
    "            steering_angles[b_i] = st_angle\n",
    "\n",
    "        yield batch, steering_angles                                    "
   ]
  },
  {
   "cell_type": "code",
   "execution_count": 468,
   "metadata": {
    "collapsed": true
   },
   "outputs": [],
   "source": []
  },
  {
   "cell_type": "code",
   "execution_count": 460,
   "metadata": {
    "collapsed": true
   },
   "outputs": [],
   "source": [
    "def crop(imgs):\n",
    "    return imgs[:,crop_y_start:,:,:]"
   ]
  },
  {
   "cell_type": "code",
   "execution_count": 461,
   "metadata": {
    "collapsed": true
   },
   "outputs": [],
   "source": [
    "def resize(img):\n",
    "    from keras.backend import tf as ktf\n",
    "    return ktf.image.resize_images(img, [66, 200])"
   ]
  },
  {
   "cell_type": "code",
   "execution_count": 462,
   "metadata": {
    "collapsed": true
   },
   "outputs": [],
   "source": [
    "def normalize_mean_channels(img):\n",
    "    return img - [136.19009391165321, 142.25525395939627, 133.84246425028346]"
   ]
  },
  {
   "cell_type": "code",
   "execution_count": 536,
   "metadata": {
    "collapsed": true
   },
   "outputs": [],
   "source": [
    "def nvidia_model(target_shape, crop_y_start):\n",
    "    model = Sequential()\n",
    "    model.add(Lambda(lambda imgs: imgs[:,60:,:,:], input_shape=(160, 320, 3)))\n",
    "#    model.add(Lambda(normalize_mean_channels))\n",
    "    model.add(Lambda(resize))\n",
    "    \n",
    "    # TODO use Keras.Cropping instead of a lambda layer\n",
    "\n",
    "    # We have a series of 3 5x5 convolutional layers with a stride of 2x2\n",
    "    model.add(Convolution2D(24, 5, 5, subsample=(2, 2), activation='relu'))\n",
    "\n",
    "    model.add(Convolution2D(36, 5, 5, subsample=(2, 2), activation='relu'))\n",
    "\n",
    "    model.add(Convolution2D(48, 5, 5, subsample=(2, 2), activation='relu'))    \n",
    "\n",
    "    \n",
    "    # This is then followed by 2 3x3 convolutional layers with a 1x1 stride\n",
    "    model.add(Convolution2D(64, 3, 3, subsample=(1, 1), activation='relu')) \n",
    "\n",
    "    model.add(Convolution2D(64, 3, 3, subsample=(1, 1), activation='relu')) \n",
    "\n",
    "    model.add(BatchNormalization())\n",
    "    \n",
    "    # Flattening the output of last convolutional layer before entering fully connected phase\n",
    "    model.add(Flatten())\n",
    "    \n",
    "    # Fully connected layers\n",
    "    model.add(Dense(1164, activation='relu'))\n",
    "\n",
    "    model.add(Dense(100, activation='relu'))\n",
    "\n",
    "    model.add(Dense(50, activation='relu'))\n",
    "\n",
    "    model.add(Dense(10, activation='relu'))\n",
    "\n",
    "    \n",
    "    # Output layer\n",
    "    model.add(Dense(1))\n",
    "    \n",
    "    model.compile(loss = \"MSE\", optimizer = \"adam\")\n",
    "    return model "
   ]
  },
  {
   "cell_type": "code",
   "execution_count": 406,
   "metadata": {
    "collapsed": true
   },
   "outputs": [],
   "source": [
    "def normalise_images(imgs):\n",
    "    return (imgs/255) - 0.5"
   ]
  },
  {
   "cell_type": "code",
   "execution_count": 478,
   "metadata": {},
   "outputs": [
    {
     "data": {
      "text/plain": [
       "(8820, 160, 320, 3)"
      ]
     },
     "execution_count": 478,
     "metadata": {},
     "output_type": "execute_result"
    }
   ],
   "source": [
    "X_train.shape"
   ]
  },
  {
   "cell_type": "code",
   "execution_count": 408,
   "metadata": {
    "collapsed": true
   },
   "outputs": [],
   "source": [
    "X_train = X_train.astype(np.float32)\n",
    "#datagen = ImageDataGenerator(featurewise_center=True, featurewise_std_normalization=True)\n",
    "# Pre-compute mean, std, etc/\n",
    "#datagen.fit(X_train)"
   ]
  },
  {
   "cell_type": "code",
   "execution_count": 537,
   "metadata": {},
   "outputs": [],
   "source": [
    "t_shape = (66,200,3)\n",
    "m = nvidia_model(t_shape, crop_y_start)"
   ]
  },
  {
   "cell_type": "code",
   "execution_count": 538,
   "metadata": {},
   "outputs": [
    {
     "name": "stdout",
     "output_type": "stream",
     "text": [
      "____________________________________________________________________________________________________\n",
      "Layer (type)                     Output Shape          Param #     Connected to                     \n",
      "====================================================================================================\n",
      "lambda_54 (Lambda)               (None, 100, 320, 3)   0           lambda_input_49[0][0]            \n",
      "____________________________________________________________________________________________________\n",
      "lambda_55 (Lambda)               (None, 66, 200, 3)    0           lambda_54[0][0]                  \n",
      "____________________________________________________________________________________________________\n",
      "convolution2d_151 (Convolution2D (None, 31, 98, 24)    1824        lambda_55[0][0]                  \n",
      "____________________________________________________________________________________________________\n",
      "convolution2d_152 (Convolution2D (None, 14, 47, 36)    21636       convolution2d_151[0][0]          \n",
      "____________________________________________________________________________________________________\n",
      "convolution2d_153 (Convolution2D (None, 5, 22, 48)     43248       convolution2d_152[0][0]          \n",
      "____________________________________________________________________________________________________\n",
      "convolution2d_154 (Convolution2D (None, 3, 20, 64)     27712       convolution2d_153[0][0]          \n",
      "____________________________________________________________________________________________________\n",
      "convolution2d_155 (Convolution2D (None, 1, 18, 64)     36928       convolution2d_154[0][0]          \n",
      "____________________________________________________________________________________________________\n",
      "batchnormalization_57 (BatchNorm (None, 1, 18, 64)     256         convolution2d_155[0][0]          \n",
      "____________________________________________________________________________________________________\n",
      "flatten_41 (Flatten)             (None, 1152)          0           batchnormalization_57[0][0]      \n",
      "____________________________________________________________________________________________________\n",
      "dense_161 (Dense)                (None, 1164)          1342092     flatten_41[0][0]                 \n",
      "____________________________________________________________________________________________________\n",
      "dense_162 (Dense)                (None, 100)           116500      dense_161[0][0]                  \n",
      "____________________________________________________________________________________________________\n",
      "dense_163 (Dense)                (None, 50)            5050        dense_162[0][0]                  \n",
      "____________________________________________________________________________________________________\n",
      "dense_164 (Dense)                (None, 10)            510         dense_163[0][0]                  \n",
      "____________________________________________________________________________________________________\n",
      "dense_165 (Dense)                (None, 1)             11          dense_164[0][0]                  \n",
      "====================================================================================================\n",
      "Total params: 1,595,767\n",
      "Trainable params: 1,595,639\n",
      "Non-trainable params: 128\n",
      "____________________________________________________________________________________________________\n"
     ]
    }
   ],
   "source": [
    "m.summary()"
   ]
  },
  {
   "cell_type": "code",
   "execution_count": 520,
   "metadata": {},
   "outputs": [
    {
     "data": {
      "text/plain": [
       "294"
      ]
     },
     "execution_count": 520,
     "metadata": {},
     "output_type": "execute_result"
    }
   ],
   "source": [
    "b_size = len(data_csv) // 10\n",
    "b_size"
   ]
  },
  {
   "cell_type": "code",
   "execution_count": 539,
   "metadata": {
    "collapsed": true
   },
   "outputs": [],
   "source": [
    "gen = generate_images(data_csv, (160, 320, 3), batch_size=b_size)"
   ]
  },
  {
   "cell_type": "code",
   "execution_count": null,
   "metadata": {},
   "outputs": [
    {
     "name": "stdout",
     "output_type": "stream",
     "text": [
      "Epoch 1/5\n",
      "8820/8820 [==============================] - 13s - loss: 0.0205    \n",
      "Epoch 2/5\n",
      "8820/8820 [==============================] - 13s - loss: 0.0101    \n",
      "Epoch 3/5\n",
      "3234/8820 [==========>...................] - ETA: 8s - loss: 0.0075"
     ]
    }
   ],
   "source": [
    "m.fit_generator(gen, samples_per_epoch=len(data_csv) * 3, nb_epoch=5, verbose=1)"
   ]
  },
  {
   "cell_type": "code",
   "execution_count": 542,
   "metadata": {},
   "outputs": [],
   "source": [
    "m.save(\"{0}/nivida_model_4.h5\".format(models_path))"
   ]
  },
  {
   "cell_type": "code",
   "execution_count": 543,
   "metadata": {
    "collapsed": true
   },
   "outputs": [],
   "source": [
    "from keras.models import load_model,model_from_json"
   ]
  },
  {
   "cell_type": "code",
   "execution_count": 544,
   "metadata": {},
   "outputs": [],
   "source": [
    "#m2 = load_model(\"{0}/nivida_model.h5\".format(models_path), custom_objects={\"tf\": backend.tf})\n",
    "m2 = load_model(\"{0}/nivida_model_4.h5\".format(models_path))"
   ]
  },
  {
   "cell_type": "code",
   "execution_count": 261,
   "metadata": {},
   "outputs": [
    {
     "data": {
      "text/plain": [
       "'{\"keras_version\": \"1.2.1\", \"config\": [{\"config\": {\"batch_input_shape\": [null, 160, 320, 3], \"arguments\": {}, \"trainable\": true, \"output_shape\": null, \"output_shape_type\": \"raw\", \"function\": [\"\\\\u00e3\\\\u0001\\\\u0000\\\\u0000\\\\u0000\\\\u0000\\\\u0000\\\\u0000\\\\u0000\\\\u0002\\\\u0000\\\\u0000\\\\u0000\\\\u0004\\\\u0000\\\\u0000\\\\u0000C\\\\u0000\\\\u0000\\\\u0000s)\\\\u0000\\\\u0000\\\\u0000d\\\\u0001\\\\u0000d\\\\u0002\\\\u0000l\\\\u0000\\\\u0000m\\\\u0001\\\\u0000}\\\\u0001\\\\u0000\\\\u0001|\\\\u0001\\\\u0000j\\\\u0002\\\\u0000j\\\\u0003\\\\u0000|\\\\u0000\\\\u0000d\\\\u0003\\\\u0000d\\\\u0004\\\\u0000g\\\\u0002\\\\u0000\\\\u0083\\\\u0002\\\\u0000S)\\\\u0005N\\\\u00e9\\\\u0000\\\\u0000\\\\u0000\\\\u0000)\\\\u0001\\\\u00da\\\\u0002tf\\\\u00e9B\\\\u0000\\\\u0000\\\\u0000\\\\u00e9\\\\u00c8\\\\u0000\\\\u0000\\\\u0000)\\\\u0004\\\\u00da\\\\rkeras.backendr\\\\u0002\\\\u0000\\\\u0000\\\\u0000\\\\u00da\\\\u0005image\\\\u00da\\\\rresize_images)\\\\u0002\\\\u00da\\\\u0003img\\\\u00da\\\\u0003ktf\\\\u00a9\\\\u0000r\\\\n\\\\u0000\\\\u0000\\\\u0000\\\\u00fa <ipython-input-253-763cb1c42d3c>\\\\u00da\\\\u0006resize\\\\u0001\\\\u0000\\\\u0000\\\\u0000s\\\\u0004\\\\u0000\\\\u0000\\\\u0000\\\\u0000\\\\u0001\\\\u0010\\\\u0001\", null, null], \"function_type\": \"lambda\", \"input_dtype\": \"float32\", \"name\": \"lambda_28\"}, \"class_name\": \"Lambda\"}, {\"config\": {\"epsilon\": 0.001, \"beta_regularizer\": null, \"gamma_regularizer\": null, \"name\": \"batchnormalization_17\", \"axis\": -1, \"trainable\": true, \"mode\": 0, \"momentum\": 0.99}, \"class_name\": \"BatchNormalization\"}, {\"config\": {\"nb_row\": 5, \"W_constraint\": null, \"init\": \"glorot_uniform\", \"name\": \"convolution2d_81\", \"dim_ordering\": \"tf\", \"b_constraint\": null, \"activity_regularizer\": null, \"border_mode\": \"valid\", \"bias\": true, \"nb_filter\": 24, \"b_regularizer\": null, \"trainable\": true, \"subsample\": [2, 2], \"W_regularizer\": null, \"activation\": \"relu\", \"nb_col\": 5}, \"class_name\": \"Convolution2D\"}, {\"config\": {\"nb_row\": 5, \"W_constraint\": null, \"init\": \"glorot_uniform\", \"name\": \"convolution2d_82\", \"dim_ordering\": \"tf\", \"b_constraint\": null, \"activity_regularizer\": null, \"border_mode\": \"valid\", \"bias\": true, \"nb_filter\": 36, \"b_regularizer\": null, \"trainable\": true, \"subsample\": [2, 2], \"W_regularizer\": null, \"activation\": \"relu\", \"nb_col\": 5}, \"class_name\": \"Convolution2D\"}, {\"config\": {\"nb_row\": 5, \"W_constraint\": null, \"init\": \"glorot_uniform\", \"name\": \"convolution2d_83\", \"dim_ordering\": \"tf\", \"b_constraint\": null, \"activity_regularizer\": null, \"border_mode\": \"valid\", \"bias\": true, \"nb_filter\": 48, \"b_regularizer\": null, \"trainable\": true, \"subsample\": [2, 2], \"W_regularizer\": null, \"activation\": \"relu\", \"nb_col\": 5}, \"class_name\": \"Convolution2D\"}, {\"config\": {\"nb_row\": 3, \"W_constraint\": null, \"init\": \"glorot_uniform\", \"name\": \"convolution2d_84\", \"dim_ordering\": \"tf\", \"b_constraint\": null, \"activity_regularizer\": null, \"border_mode\": \"valid\", \"bias\": true, \"nb_filter\": 64, \"b_regularizer\": null, \"trainable\": true, \"subsample\": [1, 1], \"W_regularizer\": null, \"activation\": \"relu\", \"nb_col\": 3}, \"class_name\": \"Convolution2D\"}, {\"config\": {\"nb_row\": 3, \"W_constraint\": null, \"init\": \"glorot_uniform\", \"name\": \"convolution2d_85\", \"dim_ordering\": \"tf\", \"b_constraint\": null, \"activity_regularizer\": null, \"border_mode\": \"valid\", \"bias\": true, \"nb_filter\": 64, \"b_regularizer\": null, \"trainable\": true, \"subsample\": [1, 1], \"W_regularizer\": null, \"activation\": \"relu\", \"nb_col\": 3}, \"class_name\": \"Convolution2D\"}, {\"config\": {\"trainable\": true, \"name\": \"flatten_27\"}, \"class_name\": \"Flatten\"}, {\"config\": {\"W_constraint\": null, \"input_dim\": 1152, \"name\": \"dense_91\", \"activity_regularizer\": null, \"output_dim\": 1164, \"init\": \"glorot_uniform\", \"bias\": true, \"b_constraint\": null, \"trainable\": true, \"b_regularizer\": null, \"W_regularizer\": null, \"activation\": \"relu\"}, \"class_name\": \"Dense\"}, {\"config\": {\"W_constraint\": null, \"input_dim\": 1164, \"name\": \"dense_92\", \"activity_regularizer\": null, \"output_dim\": 100, \"init\": \"glorot_uniform\", \"bias\": true, \"b_constraint\": null, \"trainable\": true, \"b_regularizer\": null, \"W_regularizer\": null, \"activation\": \"relu\"}, \"class_name\": \"Dense\"}, {\"config\": {\"W_constraint\": null, \"input_dim\": 100, \"name\": \"dense_93\", \"activity_regularizer\": null, \"output_dim\": 50, \"init\": \"glorot_uniform\", \"bias\": true, \"b_constraint\": null, \"trainable\": true, \"b_regularizer\": null, \"W_regularizer\": null, \"activation\": \"relu\"}, \"class_name\": \"Dense\"}, {\"config\": {\"W_constraint\": null, \"input_dim\": 50, \"name\": \"dense_94\", \"activity_regularizer\": null, \"output_dim\": 10, \"init\": \"glorot_uniform\", \"bias\": true, \"b_constraint\": null, \"trainable\": true, \"b_regularizer\": null, \"W_regularizer\": null, \"activation\": \"relu\"}, \"class_name\": \"Dense\"}, {\"config\": {\"W_constraint\": null, \"input_dim\": 10, \"name\": \"dense_95\", \"activity_regularizer\": null, \"output_dim\": 1, \"init\": \"glorot_uniform\", \"bias\": true, \"b_constraint\": null, \"trainable\": true, \"b_regularizer\": null, \"W_regularizer\": null, \"activation\": \"linear\"}, \"class_name\": \"Dense\"}], \"class_name\": \"Sequential\"}'"
      ]
     },
     "execution_count": 261,
     "metadata": {},
     "output_type": "execute_result"
    }
   ],
   "source": [
    "m.to_json()"
   ]
  },
  {
   "cell_type": "code",
   "execution_count": null,
   "metadata": {},
   "outputs": [],
   "source": [
    "model2 = model_from_json(m.to_json(), custom_objects={\"ktf.image.resize_images\": ktf.image.resize_images})"
   ]
  },
  {
   "cell_type": "code",
   "execution_count": null,
   "metadata": {
    "collapsed": true
   },
   "outputs": [],
   "source": []
  }
 ],
 "metadata": {
  "kernelspec": {
   "display_name": "Python 3",
   "language": "python",
   "name": "python3"
  },
  "language_info": {
   "codemirror_mode": {
    "name": "ipython",
    "version": 3
   },
   "file_extension": ".py",
   "mimetype": "text/x-python",
   "name": "python",
   "nbconvert_exporter": "python",
   "pygments_lexer": "ipython3",
   "version": "3.5.2"
  },
  "widgets": {
   "state": {},
   "version": "1.1.2"
  }
 },
 "nbformat": 4,
 "nbformat_minor": 2
}
